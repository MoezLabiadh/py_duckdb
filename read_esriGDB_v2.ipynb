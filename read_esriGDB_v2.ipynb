{
 "cells": [
  {
   "cell_type": "code",
   "execution_count": 1,
   "id": "a30f3d90",
   "metadata": {},
   "outputs": [],
   "source": [
    "import os\n",
    "import duckdb\n",
    "import fiona\n",
    "import pandas as pd\n",
    "from typing import List, Optional"
   ]
  },
  {
   "cell_type": "code",
   "execution_count": 2,
   "id": "81611180",
   "metadata": {},
   "outputs": [],
   "source": [
    "db = r'W:\\lwbc\\visr\\Workarea\\moez_labiadh\\LEARNING\\duckdb\\hd_test.db'\n",
    "conn = duckdb.connect(db)\n",
    "conn.install_extension('spatial')\n",
    "conn.load_extension('spatial')"
   ]
  },
  {
   "cell_type": "code",
   "execution_count": 13,
   "id": "72086d23",
   "metadata": {},
   "outputs": [],
   "source": [
    "def import_fgdb_layers(\n",
    "    conn: duckdb.DuckDBPyConnection,\n",
    "    fgdb_path: str,\n",
    "    feature_classes: Optional[List[str]] = None,\n",
    ") -> pd.DataFrame:\n",
    "    \"\"\"\n",
    "    Import layers from an ESRI File Geodatabase into DuckDB as tables.\n",
    "    The geometry column name will be standardized to 'geometry',\n",
    "    \n",
    "    Parameters\n",
    "    ----------\n",
    "    conn : duckdb.DuckDBPyConnection\n",
    "        An active DuckDB connection.\n",
    "    gdb_path : str\n",
    "        Filesystem path to the .gdb directory.\n",
    "    feature_classes : list of str, optional\n",
    "        Names of feature classes to import. If None, all layers in the FGDB\n",
    "        will be imported.\n",
    "\n",
    "    \"\"\"\n",
    "    # If no specific list provided, list all layers in the FGDB\n",
    "    if feature_classes is None:\n",
    "        feature_classes = fiona.listlayers(fgdb_path)\n",
    "\n",
    "    total = len(feature_classes)\n",
    "\n",
    "    # Grab existing tables in DuckDB\n",
    "    existing_tables = {\n",
    "        row[0] for row in conn.execute(\"SHOW TABLES\").fetchall()\n",
    "    }\n",
    "\n",
    "    stats_list = []\n",
    "    for idx, layer in enumerate(feature_classes, start=1):\n",
    "        print(f\"\\nProcessing layer {idx} of {total}: '{layer}'.\")\n",
    "\n",
    "        # Delete table if it already exists\n",
    "        if layer in existing_tables:\n",
    "            print(\"...layer exists in DB — deleting it...\")\n",
    "            conn.execute(f'DROP TABLE IF EXISTS \"{layer}\";')\n",
    "\n",
    "        # Import the layer into DuckDB\n",
    "        print(\"...importing into the DB...\")\n",
    "        conn.execute(f\"\"\"\n",
    "            CREATE TABLE \"{layer}\" AS\n",
    "            SELECT *\n",
    "            FROM ST_Read(\n",
    "                '{fgdb_path}',\n",
    "                allowed_drivers => ['OpenFileGDB'],\n",
    "                layer           => '{layer}'\n",
    "            );\n",
    "        \"\"\")\n",
    "\n",
    "        # Rename the geometry column to 'geometry'\n",
    "        cols    = conn.execute(f\"PRAGMA table_info('{layer}')\").fetchall()\n",
    "        geomcol = next(col[1] for col in cols if col[2].upper() == 'GEOMETRY')\n",
    "\n",
    "        conn.execute(\n",
    "            f'ALTER TABLE \"{layer}\" RENAME COLUMN {geomcol} TO geometry;'\n",
    "        )\n",
    "\n",
    "        # Build spatial index\n",
    "        print(\"...creating RTREE index on geometry…\")\n",
    "        conn.execute(\n",
    "            f\"\"\"\n",
    "            DROP INDEX IF EXISTS idx_geo_{layer};\n",
    "            CREATE INDEX idx_geo_{layer} ON {layer} USING RTREE (geometry);\n",
    "            \"\"\"\n",
    "        )\n",
    "\n",
    "        # collect stats\n",
    "        row_count = conn.execute(f'SELECT COUNT(*) FROM \"{layer}\";').fetchone()[0]\n",
    "        col_count = len(cols)\n",
    "        stats_list.append({\n",
    "            'table_name': layer,\n",
    "            'row_count': row_count,\n",
    "            'column_count': col_count,\n",
    "            'geometry_column': 'geometry'\n",
    "        })\n",
    "\n",
    "    return pd.DataFrame(stats_list)"
   ]
  },
  {
   "cell_type": "code",
   "execution_count": 14,
   "id": "ff893065",
   "metadata": {},
   "outputs": [
    {
     "name": "stdout",
     "output_type": "stream",
     "text": [
      "\n",
      "Processing layer 1 of 2: 'Power_2_Flooded_Reservoirs_raw'.\n",
      "...layer exists in DB — deleting it...\n",
      "...importing into the DB...\n",
      "...creating RTREE index on geometry…\n",
      "\n",
      "Processing layer 2 of 2: 'Power_3_Transmission_Lines_GBA_raw'.\n",
      "...layer exists in DB — deleting it...\n",
      "...importing into the DB...\n",
      "...creating RTREE index on geometry…\n"
     ]
    },
    {
     "data": {
      "application/vnd.microsoft.datawrangler.viewer.v0+json": {
       "columns": [
        {
         "name": "index",
         "rawType": "int64",
         "type": "integer"
        },
        {
         "name": "table_name",
         "rawType": "object",
         "type": "string"
        },
        {
         "name": "row_count",
         "rawType": "int64",
         "type": "integer"
        },
        {
         "name": "column_count",
         "rawType": "int64",
         "type": "integer"
        },
        {
         "name": "geometry_column",
         "rawType": "object",
         "type": "string"
        }
       ],
       "ref": "32f95eb3-3914-4b3d-838e-0d851bd8c308",
       "rows": [
        [
         "0",
         "Power_2_Flooded_Reservoirs_raw",
         "41",
         "31",
         "geometry"
        ],
        [
         "1",
         "Power_3_Transmission_Lines_GBA_raw",
         "2002",
         "22",
         "geometry"
        ]
       ],
       "shape": {
        "columns": 4,
        "rows": 2
       }
      },
      "text/html": [
       "<div>\n",
       "<style scoped>\n",
       "    .dataframe tbody tr th:only-of-type {\n",
       "        vertical-align: middle;\n",
       "    }\n",
       "\n",
       "    .dataframe tbody tr th {\n",
       "        vertical-align: top;\n",
       "    }\n",
       "\n",
       "    .dataframe thead th {\n",
       "        text-align: right;\n",
       "    }\n",
       "</style>\n",
       "<table border=\"1\" class=\"dataframe\">\n",
       "  <thead>\n",
       "    <tr style=\"text-align: right;\">\n",
       "      <th></th>\n",
       "      <th>table_name</th>\n",
       "      <th>row_count</th>\n",
       "      <th>column_count</th>\n",
       "      <th>geometry_column</th>\n",
       "    </tr>\n",
       "  </thead>\n",
       "  <tbody>\n",
       "    <tr>\n",
       "      <th>0</th>\n",
       "      <td>Power_2_Flooded_Reservoirs_raw</td>\n",
       "      <td>41</td>\n",
       "      <td>31</td>\n",
       "      <td>geometry</td>\n",
       "    </tr>\n",
       "    <tr>\n",
       "      <th>1</th>\n",
       "      <td>Power_3_Transmission_Lines_GBA_raw</td>\n",
       "      <td>2002</td>\n",
       "      <td>22</td>\n",
       "      <td>geometry</td>\n",
       "    </tr>\n",
       "  </tbody>\n",
       "</table>\n",
       "</div>"
      ],
      "text/plain": [
       "                           table_name  row_count  column_count geometry_column\n",
       "0      Power_2_Flooded_Reservoirs_raw         41            31        geometry\n",
       "1  Power_3_Transmission_Lines_GBA_raw       2002            22        geometry"
      ]
     },
     "execution_count": 14,
     "metadata": {},
     "output_type": "execute_result"
    }
   ],
   "source": [
    "fgdb_path = r'W:\\ilmb\\dss\\projects\\GeoBC\\Human Disturbance\\outputs\\2025\\Disturbance_1_Raw.gdb'\n",
    "layer_list = ['Power_2_Flooded_Reservoirs_raw', 'Power_3_Transmission_Lines_GBA_raw']\n",
    "\n",
    "import_log = import_fgdb_layers (conn, fgdb_path, layer_list)\n",
    "import_log"
   ]
  },
  {
   "cell_type": "code",
   "execution_count": 16,
   "id": "1d95be0b",
   "metadata": {},
   "outputs": [
    {
     "name": "stdout",
     "output_type": "stream",
     "text": [
      "\n",
      "Processing layer 1 of 1: 'tiles_250k_with_94A_custom'.\n",
      "...layer exists in DB — deleting it...\n",
      "...importing into the DB...\n",
      "...creating RTREE index on geometry…\n"
     ]
    },
    {
     "data": {
      "application/vnd.microsoft.datawrangler.viewer.v0+json": {
       "columns": [
        {
         "name": "index",
         "rawType": "int64",
         "type": "integer"
        },
        {
         "name": "table_name",
         "rawType": "object",
         "type": "string"
        },
        {
         "name": "row_count",
         "rawType": "int64",
         "type": "integer"
        },
        {
         "name": "column_count",
         "rawType": "int64",
         "type": "integer"
        },
        {
         "name": "geometry_column",
         "rawType": "object",
         "type": "string"
        }
       ],
       "ref": "afa6bb14-e9c3-4b00-94e6-82cb99ef5e08",
       "rows": [
        [
         "0",
         "tiles_250k_with_94A_custom",
         "92",
         "9",
         "geometry"
        ]
       ],
       "shape": {
        "columns": 4,
        "rows": 1
       }
      },
      "text/html": [
       "<div>\n",
       "<style scoped>\n",
       "    .dataframe tbody tr th:only-of-type {\n",
       "        vertical-align: middle;\n",
       "    }\n",
       "\n",
       "    .dataframe tbody tr th {\n",
       "        vertical-align: top;\n",
       "    }\n",
       "\n",
       "    .dataframe thead th {\n",
       "        text-align: right;\n",
       "    }\n",
       "</style>\n",
       "<table border=\"1\" class=\"dataframe\">\n",
       "  <thead>\n",
       "    <tr style=\"text-align: right;\">\n",
       "      <th></th>\n",
       "      <th>table_name</th>\n",
       "      <th>row_count</th>\n",
       "      <th>column_count</th>\n",
       "      <th>geometry_column</th>\n",
       "    </tr>\n",
       "  </thead>\n",
       "  <tbody>\n",
       "    <tr>\n",
       "      <th>0</th>\n",
       "      <td>tiles_250k_with_94A_custom</td>\n",
       "      <td>92</td>\n",
       "      <td>9</td>\n",
       "      <td>geometry</td>\n",
       "    </tr>\n",
       "  </tbody>\n",
       "</table>\n",
       "</div>"
      ],
      "text/plain": [
       "                   table_name  row_count  column_count geometry_column\n",
       "0  tiles_250k_with_94A_custom         92             9        geometry"
      ]
     },
     "execution_count": 16,
     "metadata": {},
     "output_type": "execute_result"
    }
   ],
   "source": [
    "fgdb_path = r'W:\\ilmb\\dss\\projects\\GeoBC\\Human Disturbance\\data\\00_Tile_Grids.gdb'\n",
    "layer_list = ['tiles_250k_with_94A_custom']\n",
    "\n",
    "import_log = import_fgdb_layers (conn, fgdb_path, layer_list)\n",
    "import_log"
   ]
  },
  {
   "cell_type": "code",
   "execution_count": 38,
   "id": "85c11543",
   "metadata": {},
   "outputs": [
    {
     "data": {
      "text/plain": [
       "<duckdb.duckdb.DuckDBPyConnection at 0x203ba1126b0>"
      ]
     },
     "execution_count": 38,
     "metadata": {},
     "output_type": "execute_result"
    }
   ],
   "source": [
    "shapefile_path = r'W:\\lwbc\\visr\\Workarea\\moez_labiadh\\TOOLS\\SCRIPTS\\STATUSING\\test_data\\aoi_test_7_vvvbig.shp'\n",
    "table_name = os.path.basename(shapefile_path).replace('.shp', '')\n",
    "\n",
    "conn.execute(f\"\"\"\n",
    " DROP TABLE IF EXISTS \"{table_name}\";\n",
    "CREATE TABLE \"{table_name}\" AS\n",
    "SELECT *\n",
    "FROM ST_Read(\n",
    "    '{shapefile_path}',\n",
    "    allowed_drivers => ['ESRI Shapefile']\n",
    ");\n",
    "\"\"\"\n",
    ")"
   ]
  },
  {
   "cell_type": "code",
   "execution_count": 17,
   "id": "22fa4df0",
   "metadata": {},
   "outputs": [
    {
     "data": {
      "application/vnd.microsoft.datawrangler.viewer.v0+json": {
       "columns": [
        {
         "name": "index",
         "rawType": "int64",
         "type": "integer"
        },
        {
         "name": "name",
         "rawType": "object",
         "type": "string"
        }
       ],
       "ref": "306283a5-772f-4090-be0f-2773b1a89200",
       "rows": [
        [
         "0",
         "Power_2_Flooded_Reservoirs_raw"
        ],
        [
         "1",
         "Power_3_Transmission_Lines_GBA_raw"
        ],
        [
         "2",
         "aoi_test_7_vvvbig"
        ],
        [
         "3",
         "tiles_250k_with_94A_custom"
        ]
       ],
       "shape": {
        "columns": 1,
        "rows": 4
       }
      },
      "text/html": [
       "<div>\n",
       "<style scoped>\n",
       "    .dataframe tbody tr th:only-of-type {\n",
       "        vertical-align: middle;\n",
       "    }\n",
       "\n",
       "    .dataframe tbody tr th {\n",
       "        vertical-align: top;\n",
       "    }\n",
       "\n",
       "    .dataframe thead th {\n",
       "        text-align: right;\n",
       "    }\n",
       "</style>\n",
       "<table border=\"1\" class=\"dataframe\">\n",
       "  <thead>\n",
       "    <tr style=\"text-align: right;\">\n",
       "      <th></th>\n",
       "      <th>name</th>\n",
       "    </tr>\n",
       "  </thead>\n",
       "  <tbody>\n",
       "    <tr>\n",
       "      <th>0</th>\n",
       "      <td>Power_2_Flooded_Reservoirs_raw</td>\n",
       "    </tr>\n",
       "    <tr>\n",
       "      <th>1</th>\n",
       "      <td>Power_3_Transmission_Lines_GBA_raw</td>\n",
       "    </tr>\n",
       "    <tr>\n",
       "      <th>2</th>\n",
       "      <td>aoi_test_7_vvvbig</td>\n",
       "    </tr>\n",
       "    <tr>\n",
       "      <th>3</th>\n",
       "      <td>tiles_250k_with_94A_custom</td>\n",
       "    </tr>\n",
       "  </tbody>\n",
       "</table>\n",
       "</div>"
      ],
      "text/plain": [
       "                                 name\n",
       "0      Power_2_Flooded_Reservoirs_raw\n",
       "1  Power_3_Transmission_Lines_GBA_raw\n",
       "2                   aoi_test_7_vvvbig\n",
       "3          tiles_250k_with_94A_custom"
      ]
     },
     "execution_count": 17,
     "metadata": {},
     "output_type": "execute_result"
    }
   ],
   "source": [
    "tabs= conn.execute(\"\"\"SHOW TABLES\"\"\").df()\n",
    "tabs"
   ]
  }
 ],
 "metadata": {
  "kernelspec": {
   "display_name": "geo_py310",
   "language": "python",
   "name": "python3"
  },
  "language_info": {
   "codemirror_mode": {
    "name": "ipython",
    "version": 3
   },
   "file_extension": ".py",
   "mimetype": "text/x-python",
   "name": "python",
   "nbconvert_exporter": "python",
   "pygments_lexer": "ipython3",
   "version": "3.10.14"
  }
 },
 "nbformat": 4,
 "nbformat_minor": 5
}
