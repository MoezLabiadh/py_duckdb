{
 "cells": [
  {
   "cell_type": "code",
   "execution_count": 1,
   "metadata": {},
   "outputs": [],
   "source": [
    "import duckdb"
   ]
  },
  {
   "cell_type": "code",
   "execution_count": 2,
   "metadata": {},
   "outputs": [],
   "source": [
    "conn = duckdb.connect()\n",
    "conn.install_extension('spatial')\n",
    "conn.load_extension('spatial')"
   ]
  },
  {
   "cell_type": "code",
   "execution_count": 18,
   "metadata": {},
   "outputs": [
    {
     "data": {
      "text/plain": [
       "<duckdb.duckdb.DuckDBPyConnection at 0x26e361f0370>"
      ]
     },
     "execution_count": 18,
     "metadata": {},
     "output_type": "execute_result"
    }
   ],
   "source": [
    "gdb_path = r'Q:\\dss_workarea\\mlabiadh\\workspace\\20241125_AEB\\data\\data.gdb'\n",
    "layer_name = 'ecosections_with_drought_sensitivity_and_sar_20241125'\n",
    "\n",
    "# Create a table in DuckDB from the feature class\n",
    "query = f\"\"\"\n",
    "    CREATE TABLE {layer_name} AS\n",
    "    SELECT *\n",
    "    FROM ST_Read(\n",
    "        '{gdb_path}',\n",
    "        allowed_drivers => ['OpenFileGDB'],\n",
    "        layer => '{layer_name}',\n",
    "        open_options => ['GEOMETRY_NAME=Shape']\n",
    "    );\n",
    "\"\"\"\n",
    "\n",
    "# Execute the query to create the table\n",
    "conn.execute(query)"
   ]
  },
  {
   "cell_type": "code",
   "execution_count": 20,
   "metadata": {},
   "outputs": [
    {
     "data": {
      "text/plain": [
       "fid_1              float64\n",
       "id                  object\n",
       "ECOSECTION          object\n",
       "FEATURE_CO          object\n",
       "EFFECTIVE_          object\n",
       "ECOSECTION_NAME     object\n",
       "PARENT_ECO          object\n",
       "EXPIRY_DAT          object\n",
       "OBJECTID             int32\n",
       "SE_ANNO_CA          object\n",
       "FEATURE_LE         float64\n",
       "FEATURE_AR         float64\n",
       "summer_sen          object\n",
       "winter_sen          object\n",
       "number_sar           int32\n",
       "Shape_Length       float64\n",
       "Shape_Area         float64\n",
       "SUMMER_SNTVTY       object\n",
       "WINTER_SNTVTY       object\n",
       "Shape               object\n",
       "dtype: object"
      ]
     },
     "execution_count": 20,
     "metadata": {},
     "output_type": "execute_result"
    }
   ],
   "source": [
    "df = conn.execute(f\"SELECT * FROM {layer_name};\").df()\n",
    "df.dtypes"
   ]
  }
 ],
 "metadata": {
  "kernelspec": {
   "display_name": "geo_py310",
   "language": "python",
   "name": "python3"
  },
  "language_info": {
   "codemirror_mode": {
    "name": "ipython",
    "version": 3
   },
   "file_extension": ".py",
   "mimetype": "text/x-python",
   "name": "python",
   "nbconvert_exporter": "python",
   "pygments_lexer": "ipython3",
   "version": "3.10.14"
  }
 },
 "nbformat": 4,
 "nbformat_minor": 2
}
